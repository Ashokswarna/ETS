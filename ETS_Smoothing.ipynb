{
 "cells": [
  {
   "cell_type": "code",
   "execution_count": 1,
   "metadata": {},
   "outputs": [],
   "source": [
    "import pandas as pd\n",
    "import os\n",
    "from statsmodels.tsa.holtwinters import ExponentialSmoothing\n",
    "from sklearn.metrics import mean_squared_error, mean_absolute_error"
   ]
  },
  {
   "cell_type": "code",
   "execution_count": 2,
   "metadata": {},
   "outputs": [],
   "source": [
    "def load_file():\n",
    "    \n",
    "    df = pd.read_excel('external_regressors.xlsx')\n",
    "    df.head()\n",
    "    df.reset_index(drop=True)\n",
    "    df = df.set_index('Date')\n",
    "    df.columns = df.columns.str.replace(' ', '_')\n",
    "    cols = df.columns\n",
    "    \n",
    "    return df, cols"
   ]
  },
  {
   "cell_type": "code",
   "execution_count": 3,
   "metadata": {},
   "outputs": [],
   "source": [
    "df , cols = load_file()"
   ]
  },
  {
   "cell_type": "code",
   "execution_count": 4,
   "metadata": {},
   "outputs": [],
   "source": [
    "def fit_ets(train):\n",
    "    \n",
    "# fit model\n",
    "    model = ExponentialSmoothing(train)\n",
    "    model_fit = model.fit()\n",
    "\n",
    "# make prediction\n",
    "    pred = model_fit.predict(0, 26)\n",
    "    test_pred = model_fit.predict(27, 33)\n",
    "    return pred, model_fit, test_pred"
   ]
  },
  {
   "cell_type": "code",
   "execution_count": 5,
   "metadata": {},
   "outputs": [
    {
     "data": {
      "text/plain": [
       "Date\n",
       "2017-06-01    192.396\n",
       "2017-07-01    193.655\n",
       "2017-08-01    194.498\n",
       "2017-09-01    194.974\n",
       "2017-10-01    195.241\n",
       "Name: HPI, dtype: float64"
      ]
     },
     "execution_count": 5,
     "metadata": {},
     "output_type": "execute_result"
    }
   ],
   "source": [
    "df_hpi=df['HPI']\n",
    "df_hpi=df_hpi.sort_index()\n",
    "df_hpi.head()"
   ]
  },
  {
   "cell_type": "code",
   "execution_count": 6,
   "metadata": {},
   "outputs": [
    {
     "name": "stderr",
     "output_type": "stream",
     "text": [
      "C:\\Users\\ashok.swarna\\AppData\\Local\\Continuum\\anaconda3\\lib\\site-packages\\statsmodels\\tsa\\base\\tsa_model.py:165: ValueWarning: No frequency information was provided, so inferred frequency MS will be used.\n",
      "  % freq, ValueWarning)\n"
     ]
    },
    {
     "data": {
      "text/plain": [
       "2019-09-01    212.06\n",
       "2019-10-01    212.06\n",
       "2019-11-01    212.06\n",
       "2019-12-01    212.06\n",
       "2020-01-01    212.06\n",
       "2020-02-01    212.06\n",
       "2020-03-01    212.06\n",
       "Freq: MS, dtype: float64"
      ]
     },
     "execution_count": 6,
     "metadata": {},
     "output_type": "execute_result"
    }
   ],
   "source": [
    "tr_hpi, te_hpi = df_hpi[:27], df_hpi[27:34]\n",
    "pred_hpi, hpi_model, test_pred_hpi = fit_ets(tr_hpi)\n",
    "test_pred_hpi"
   ]
  },
  {
   "cell_type": "code",
   "execution_count": null,
   "metadata": {},
   "outputs": [],
   "source": []
  }
 ],
 "metadata": {
  "kernelspec": {
   "display_name": "Python 3",
   "language": "python",
   "name": "python3"
  },
  "language_info": {
   "codemirror_mode": {
    "name": "ipython",
    "version": 3
   },
   "file_extension": ".py",
   "mimetype": "text/x-python",
   "name": "python",
   "nbconvert_exporter": "python",
   "pygments_lexer": "ipython3",
   "version": "3.7.3"
  }
 },
 "nbformat": 4,
 "nbformat_minor": 2
}
